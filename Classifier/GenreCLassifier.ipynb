{
 "cells": [
  {
   "cell_type": "markdown",
   "metadata": {},
   "source": [
    "<H1> Creating an EDM SubGenre Classifier that can Classify between 2 or more EDM song Subgenre using Spotify API </H1>"
   ]
  },
  {
   "cell_type": "markdown",
   "metadata": {},
   "source": [
    "<h2> 1. Overview </h2>\n",
    "For many people, identifying a song's genre just by listening is easy. However, for those who want to understand the characteristics of different genres more deeply, determining a song's genre can be challenging. To address this, we will create a genre classifier that can categorize songs into two or more genres using the Spotify API.\n",
    "\n",
    "Spotify API can give us the information of the song such as song name, artist, duration, and the \"audio features\" also. The \"Audio Features\" are metrics that created by spotify to relate to music theory for example like Tempo, Energy, Valence, and more. And the \"Audio Feature\" can tell us about how people percieve the song like its danceability, energy, and more. \n",
    "\n",
    "So, the objective of this project is to create a genre classifier that can categorize EDM songs to its SUB Genre like House, Techno, and Progressive House (I could add more genre if I want) based on the audio features of the song."
   ]
  },
  {
   "cell_type": "markdown",
   "metadata": {},
   "source": [
    "<h2> 2. ETL Process</h2>\n",
    "Using the Spotify API to get data from spotify. this can be done easiar by the Spotipy Library.  This library makes it easy to authenticate and access the API endpoints without needing to write every request."
   ]
  },
  {
   "cell_type": "code",
   "execution_count": null,
   "metadata": {},
   "outputs": [],
   "source": [
    "import pandas as pd\n",
    "import numpy as np\n",
    "import matplotlib.pyplot as plt\n",
    "import seaborn as sns\n",
    "import os\n",
    "\n",
    "import spotipy\n",
    "from spotipy.oauth2 import SpotifyClientCredentials\n"
   ]
  },
  {
   "cell_type": "code",
   "execution_count": 10,
   "metadata": {},
   "outputs": [
    {
     "name": "stdout",
     "output_type": "stream",
     "text": [
      "Client ID: b345cf7b6a354589a849d481c1432848\n",
      "Client Secret: 918eff9c7274460ca41cb66919dcd2d2\n"
     ]
    }
   ],
   "source": [
    "client_id = os.environ.get(\"CLID\")\n",
    "client_secret = os.environ.get(\"SECRET\")\n",
    "\n",
    "print(\"Client ID:\", client_id)\n",
    "print(\"Client Secret:\", client_secret)"
   ]
  },
  {
   "cell_type": "code",
   "execution_count": 12,
   "metadata": {},
   "outputs": [],
   "source": [
    "credential_manager = SpotifyClientCredentials(client_id=client_id, client_secret=client_secret)\n",
    "sp = spotipy.Spotify(client_credentials_manager = credential_manager)"
   ]
  },
  {
   "cell_type": "markdown",
   "metadata": {},
   "source": [
    "Data Extraction Process : \n",
    "\n",
    "1. A list of artist in EDM Subgenre will be provided, along with the genre\n",
    "2. The API will find the artist ID to access songs/albums and tracks infos (sp.search())\n",
    "3. The artist albums that wanted to be found by me will be found (sp.albums()) \n",
    "4. For each album, the API will find the tracks (sp.album_tracks())\n",
    "5. The API will get the audio features of each track (sp.audio_features()), get the album name (sp.artist_album()), artist name (sp.artist()), track name (sp.track()), the genre provided in step 1 and track will be stored in the data\n",
    "6. The user will have control over how many albums that will be extracted terms that would cause an album to be ignored if they are in its name like \"Live\" and some other things like that\n",
    "\n",
    "the following code will be used to get the data from spotify"
   ]
  },
  {
   "cell_type": "code",
   "execution_count": 16,
   "metadata": {},
   "outputs": [],
   "source": [
    "def artist_tracks(sp, df, artist_name, genre = np.nan, exclude = [], quantity = np.inf, max_no_album=np.inf):\n",
    "    artist_id = \"spotify:artist:\" + sp.search(q=artist_name, type=\"artist\")[\"artists\"][\"items\"][0][\"id\"]\n",
    "    # fid the id of the artist that appears on the search results\n",
    "\n",
    "    track = []\n",
    "    artist = sp.artist(artist_id) # get the artist data\n",
    "    artist_albums = sp.artist_albums(artist_id)[\"items\"] # get the artist albums \n",
    "    c = 0\n",
    "    if quantity == 0 : \n",
    "        return df\n",
    "    for album in artist_albums : \n",
    "        if album[\"total_tracks\"] > 8 and album[\"total_trakcs\"] < max_no_album and not any(True for item in exclude if item in album[\"name\"]):\n",
    "            # condition to consider an album as valid to extract\n",
    "            c+=1 # extracted albums counter\n",
    "            album_tracks = sp.album_tracks(album[\"id\"])[\"items\"] # get tracks from album\n",
    "            for tracks in album_tracks :  # iterate over the album tracks\n",
    "                tracks_data = sp.audio_features(tracks[\"id\"])[0] # get audio features of the tracks\n",
    "                tracks_data[\"artist\"] = artist[\"name\"] # Storing data from the artist, track and album\n",
    "                tracks_data[\"name\"] = tracks[\"name\"]\n",
    "                tracks_data[\"album\"] = album[\"name\"]\n",
    "                tracks_data[\"release\"] = album[\"release_date\"]\n",
    "                tracks_data[\"genre\"] = genre\n",
    "                track.append(tracks_data) # add tracks data to the dict list\n",
    "        if c >= quantity : # check if the quantity of albums has been reachedQ\n",
    "            break\n",
    "        tracks_df = pd.DataFrame(track) # creating a dataframe with the track data\n",
    "        tracks_df = tracks_df.set_index(\"id\") # trun the track id to index for dataframe\n",
    "        if (len(df) == 0) :  #if the dataframe is empty, return to created dataframe\n",
    "            return tracks_df\n",
    "        else : # if the dataframe is not empty, append the new data to the existing dataframe\n",
    "            return df.append(tracks_df)\n",
    "\n"
   ]
  },
  {
   "cell_type": "markdown",
   "metadata": {},
   "source": [
    "here the list of the artist that will get extracted : \n",
    "\n",
    "House = \n",
    "\n",
    "Techno = \n",
    "\n",
    "Progressive House ="
   ]
  },
  {
   "cell_type": "code",
   "execution_count": null,
   "metadata": {},
   "outputs": [],
   "source": []
  }
 ],
 "metadata": {
  "kernelspec": {
   "display_name": ".venv",
   "language": "python",
   "name": "python3"
  },
  "language_info": {
   "codemirror_mode": {
    "name": "ipython",
    "version": 3
   },
   "file_extension": ".py",
   "mimetype": "text/x-python",
   "name": "python",
   "nbconvert_exporter": "python",
   "pygments_lexer": "ipython3",
   "version": "3.9.6"
  }
 },
 "nbformat": 4,
 "nbformat_minor": 2
}
